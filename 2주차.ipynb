{
 "cells": [
  {
   "cell_type": "markdown",
   "metadata": {},
   "source": [
    "### 2178 - 미로탐색"
   ]
  },
  {
   "cell_type": "code",
   "execution_count": null,
   "metadata": {},
   "outputs": [],
   "source": [
    "from collections import deque\n",
    "\n",
    "MAX_N = 104\n",
    "dy = [-1, 0, 1, 0]\n",
    "dx = [0, 1, 0, -1]\n",
    "\n",
    "n, m = map(int, input().split())\n",
    "a = [list(map(int, input())) for _ in range(n)]\n",
    "visited = [[0] * MAX_N for _ in range(MAX_N)]\n",
    "\n",
    "q = deque()\n",
    "visited[0][0] = 1\n",
    "q.append((0, 0))\n",
    "\n",
    "while q:\n",
    "    y, x = q.popleft()\n",
    "    for i in range(4):\n",
    "        ny = y + dy[i]\n",
    "        nx = x + dx[i]\n",
    "        if ny < 0 or ny >= n or nx < 0 or nx >= m or a[ny][nx] == 0:\n",
    "            continue\n",
    "        if visited[ny][nx]:\n",
    "            continue\n",
    "        visited[ny][nx] = visited[y][x] + 1\n",
    "        q.append((ny, nx))\n",
    "\n",
    "print(visited[n - 1][m - 1])"
   ]
  }
 ],
 "metadata": {
  "language_info": {
   "name": "python"
  }
 },
 "nbformat": 4,
 "nbformat_minor": 2
}
