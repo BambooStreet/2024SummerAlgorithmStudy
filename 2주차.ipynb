{
 "cells": [
  {
   "cell_type": "markdown",
   "metadata": {},
   "source": [
    "### 2178 - 미로탐색"
   ]
  },
  {
   "cell_type": "code",
   "execution_count": null,
   "metadata": {},
   "outputs": [],
   "source": [
    "from collections import deque\n",
    "\n",
    "MAX_N = 104\n",
    "dy = [-1, 0, 1, 0]\n",
    "dx = [0, 1, 0, -1]\n",
    "\n",
    "n, m = map(int, input().split())\n",
    "a = [list(map(int, input())) for _ in range(n)]\n",
    "visited = [[0] * MAX_N for _ in range(MAX_N)]\n",
    "\n",
    "q = deque()\n",
    "visited[0][0] = 1\n",
    "q.append((0, 0))\n",
    "\n",
    "while q:\n",
    "    y, x = q.popleft()\n",
    "    for i in range(4):\n",
    "        ny = y + dy[i]\n",
    "        nx = x + dx[i]\n",
    "        if ny < 0 or ny >= n or nx < 0 or nx >= m or a[ny][nx] == 0:\n",
    "            continue\n",
    "        if visited[ny][nx]:\n",
    "            continue\n",
    "        visited[ny][nx] = visited[y][x] + 1\n",
    "        q.append((ny, nx))\n",
    "\n",
    "print(visited[n - 1][m - 1])"
   ]
  },
  {
   "cell_type": "markdown",
   "metadata": {},
   "source": [
    "### 1012 - 유기농 배추"
   ]
  },
  {
   "cell_type": "code",
   "execution_count": null,
   "metadata": {},
   "outputs": [],
   "source": [
    "import sys\n",
    "sys.setrecursionlimit(10**6)\n",
    "\n",
    "dy = [-1, 0, 1, 0]\n",
    "dx = [0, 1, 0, -1]\n",
    "\n",
    "def dfs(y, x):\n",
    "    visited[y][x] = True\n",
    "    for i in range(4):\n",
    "        ny = y + dy[i]\n",
    "        nx = x + dx[i]\n",
    "        if ny < 0 or nx < 0 or ny >= n or nx >= m:\n",
    "            continue\n",
    "        if a[ny][nx] == 1 and not visited[ny][nx]:\n",
    "            dfs(ny, nx)\n",
    "\n",
    "t = int(input())\n",
    "for _ in range(t):\n",
    "    m, n, k = map(int, input().split())\n",
    "    a = [[0] * 51 for _ in range(51)]\n",
    "    visited = [[False] * 51 for _ in range(51)]\n",
    "    ret = 0\n",
    "\n",
    "    for _ in range(k):\n",
    "        x, y = map(int, input().split())\n",
    "        a[y][x] = 1\n",
    "\n",
    "    for i in range(n):\n",
    "        for j in range(m):\n",
    "            if a[i][j] == 1 and not visited[i][j]:\n",
    "                dfs(i, j)\n",
    "                ret += 1\n",
    "\n",
    "    print(ret)"
   ]
  }
 ],
 "metadata": {
  "kernelspec": {
   "display_name": "Python 3",
   "language": "python",
   "name": "python3"
  },
  "language_info": {
   "codemirror_mode": {
    "name": "ipython",
    "version": 3
   },
   "file_extension": ".py",
   "mimetype": "text/x-python",
   "name": "python",
   "nbconvert_exporter": "python",
   "pygments_lexer": "ipython3",
   "version": "3.9.7"
  }
 },
 "nbformat": 4,
 "nbformat_minor": 2
}
