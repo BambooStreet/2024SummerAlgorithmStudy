{
 "cells": [
  {
   "cell_type": "markdown",
   "metadata": {},
   "source": [
    "12851번"
   ]
  },
  {
   "cell_type": "code",
   "execution_count": 2,
   "metadata": {},
   "outputs": [
    {
     "name": "stdout",
     "output_type": "stream",
     "text": [
      "4\n",
      "2\n"
     ]
    }
   ],
   "source": [
    "from collections import deque\n",
    "\n",
    "MAX = 200000\n",
    "\n",
    "#수빈이 현재 점 0<=N<=100000\n",
    "#동생 현재 점 0<=K<=100000\n",
    "#걷는 경우 1초 후 X-1 또는 X+1\n",
    "#순간이동 1초 후 2*X\n",
    "#**위치가 주어진 경우, 격자에서 수빈이가 동생을 찾는 가장 빠른 시간, 빠른 시간 방법이 몇 가지인지..\n",
    "\n",
    "\n",
    "#문제유형 : 그래프 탐색, 최단 경로, BFS\n",
    "#1. BFS를 활용해 시작점부터 모든 가능한 위치를 탐색한다.\n",
    "#2. 탐색한 지점 도달하는 최단 경로의 수 계산\n",
    "\n",
    "\n",
    "visited = [0] * (MAX + 4)\n",
    "cnt = [0] * (MAX + 4)\n",
    "\n",
    "\n",
    "#입력\n",
    "n,m = map(int,input().split())\n",
    "\n",
    "if n==m:\n",
    "    print(0)\n",
    "    print(1)\n",
    "else:\n",
    "    visited[n] = 1\n",
    "    cnt[n] = 1\n",
    "\n",
    "    #큐 초기화\n",
    "    q = deque([n])\n",
    "\n",
    "    while q:\n",
    "        now = q.popleft()\n",
    "\n",
    "        #현재 위치에서 가능한 다음 위치 \n",
    "        for next in [now-1,now+1,now*2]:\n",
    "            if 0 <= next <= MAX: #유효한 범위 탐색\n",
    "                if not visited[next]: #다음 위치가 처음 방문하는 경우\n",
    "                    q.append(next) #새로운 위치를 큐에 추가하고 다음에 탐색한다.\n",
    "                    visited[next] = visited[now] + 1 #다음 위치의 방문 시간을 현재 위치의 방문 시간+1로 설정합니다.\n",
    "                    cnt[next] += cnt[now] #다음 위치에 도달하는 경로의 수를 현재 위치까지의 경로 수만큼 증가시킨다.\n",
    "                elif visited[next] == visited[now] + 1:\n",
    "                    #이미 방문 했지만 같은 시간에 도달하는 경우\n",
    "                    cnt[next] += cnt[now]\n",
    "\n",
    "print(visited[m]-1) #최소시간\n",
    "print(cnt[m]) #최단 경로 수 "
   ]
  },
  {
   "cell_type": "markdown",
   "metadata": {},
   "source": [
    "* 일차원 리스트의 BFS 수행\n",
    "* 특정 위치에서 앞뒤로 이동하거나, 다른 규칙에 따라 이동하는 경우\n",
    "* 그래프가 암시적으로 정의된 경우\n",
    "  * 노드 간의 연결이 명시적이지 않고, 규칙에 따라 이동 가능하다.\n",
    "\n",
    "즉, 숫자를 노드로 간주, 노드에서 세 가지 연산을 그래프로 간주\n",
    "따라서 큐를 활용 BFS탐색"
   ]
  },
  {
   "cell_type": "markdown",
   "metadata": {},
   "source": [
    "13913번 - 숨바꼭질4"
   ]
  },
  {
   "cell_type": "code",
   "execution_count": 5,
   "metadata": {},
   "outputs": [
    {
     "name": "stdout",
     "output_type": "stream",
     "text": [
      "4\n",
      "5 4 8 16 17\n"
     ]
    }
   ],
   "source": [
    "from collections import deque\n",
    "\n",
    "max_n = 200004 #최대 위치 값\n",
    "\n",
    "#방문 여부 이전 위치를 저장할 리스트\n",
    "visited = [0] * max_n\n",
    "prev = [0] * max_n\n",
    "\n",
    "#입력 받기\n",
    "n, k = map(int, input().split())\n",
    "\n",
    "#BFS를 위한 큐 초기화\n",
    "q = deque([n])\n",
    "visited[n] = 1\n",
    "\n",
    "#결과를 저장할 변수들\n",
    "ret = 0\n",
    "v = []\n",
    "\n",
    "#BFS 수행\n",
    "while q:\n",
    "    here = q.popleft()\n",
    "    \n",
    "    if here == k:\n",
    "        ret = visited[k]\n",
    "        break\n",
    "\n",
    "    for next in [here+1,here-1,here*2]:\n",
    "        if next >= max_n or next < 0 or visited[next]:\n",
    "            continue\n",
    "\n",
    "        visited[next] = visited[here] + 1 #방문 시간 기록\n",
    "        prev[next] = here #이전 위치 기록\n",
    "        q.append(next)\n",
    "\n",
    "#경로 역추적\n",
    "i = k\n",
    "while i != n:\n",
    "    v.append(i)\n",
    "    i = prev[i]\n",
    "v.append(n)\n",
    "\n",
    "print(ret-1)\n",
    "print(*reversed(v))"
   ]
  }
 ],
 "metadata": {
  "kernelspec": {
   "display_name": "Python 3",
   "language": "python",
   "name": "python3"
  },
  "language_info": {
   "codemirror_mode": {
    "name": "ipython",
    "version": 3
   },
   "file_extension": ".py",
   "mimetype": "text/x-python",
   "name": "python",
   "nbconvert_exporter": "python",
   "pygments_lexer": "ipython3",
   "version": "3.9.7"
  }
 },
 "nbformat": 4,
 "nbformat_minor": 2
}
