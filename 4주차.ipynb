{
 "cells": [
  {
   "cell_type": "markdown",
   "metadata": {},
   "source": [
    "2109번 - 순회강연"
   ]
  },
  {
   "cell_type": "code",
   "execution_count": 2,
   "metadata": {},
   "outputs": [
    {
     "name": "stdout",
     "output_type": "stream",
     "text": [
      "185\n"
     ]
    }
   ],
   "source": [
    "import heapq\n",
    "\n",
    "n = int(input())\n",
    "v = []\n",
    "\n",
    "for _ in range(n):\n",
    "    a, b = map(int, input().split())\n",
    "    v.append((b, a))\n",
    "\n",
    "v.sort()\n",
    "\n",
    "pq = []\n",
    "for deadline, cup in v:\n",
    "    heapq.heappush(pq, cup)\n",
    "    if len(pq) > deadline:\n",
    "        heapq.heappop(pq)\n",
    "\n",
    "ret = sum(pq)\n",
    "print(ret)"
   ]
  },
  {
   "cell_type": "markdown",
   "metadata": {},
   "source": [
    "9935번 - 문자열 폭발"
   ]
  },
  {
   "cell_type": "code",
   "execution_count": 4,
   "metadata": {},
   "outputs": [],
   "source": [
    "import sys\n",
    "\n",
    "input = sys.stdin.readline\n",
    "\n",
    "S = input().strip()\n",
    "T = input().strip()\n",
    "stack = []\n",
    "t_len = len(T)\n",
    "\n",
    "for char in S:\n",
    "    stack.append(char)\n",
    "    if len(stack) >= t_len and ''.join(stack[-t_len:]) == T:\n",
    "        del stack[-t_len:]\n",
    "\n",
    "result = ''.join(stack)\n",
    "print(result if result else \"FRULA\")"
   ]
  }
 ],
 "metadata": {
  "kernelspec": {
   "display_name": "base",
   "language": "python",
   "name": "python3"
  },
  "language_info": {
   "codemirror_mode": {
    "name": "ipython",
    "version": 3
   },
   "file_extension": ".py",
   "mimetype": "text/x-python",
   "name": "python",
   "nbconvert_exporter": "python",
   "pygments_lexer": "ipython3",
   "version": "3.9.12"
  }
 },
 "nbformat": 4,
 "nbformat_minor": 2
}
